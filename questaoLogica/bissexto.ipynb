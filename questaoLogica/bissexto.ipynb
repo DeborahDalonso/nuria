{
  "cells": [
    {
      "cell_type": "markdown",
      "metadata": {
        "id": "eb1aPZdrUgYc"
      },
      "source": [
        "##Objetivo\n",
        "\n",
        "Faça um programa que solicite ao usuário o ano em que ele nasceu e verifique se o ano é Bissexto ou não e imprima uma mensagem na tela."
      ]
    },
    {
      "cell_type": "markdown",
      "metadata": {
        "id": "TxFGe2hjUor9"
      },
      "source": [
        "1. Definição da fuçao que checa se um ano é ou não bissexto"
      ]
    },
    {
      "cell_type": "code",
      "execution_count": 7,
      "metadata": {
        "colab": {
          "base_uri": "https://localhost:8080/"
        },
        "id": "ZIkrM7SlRmPv",
        "outputId": "c86f9d9a-c363-427f-e976-06a6e1323688"
      },
      "outputs": [
        {
          "name": "stdout",
          "output_type": "stream",
          "text": [
            "Digite o ano de nascimento: -1\n",
            "Entrada inválida. Você é mais velho que Cristo?\n",
            "Digite o ano de nascimento: 1850\n",
            "Ola pessoa do passado!\n",
            "O ano 1850 não é bissexto.\n"
          ]
        }
      ],
      "source": [
        "def bissexto(ano): #recebe como parametro o ano\n",
        "    if (ano % 4 == 0) or (ano % 100 == 0 and ano % 400 == 0): #checa se é bissexto\n",
        "        return True #retorna verdadeiro se for bissexto\n",
        "    else:\n",
        "        return False #retorna falso se não for bissexto"
      ]
    },
    {
      "cell_type": "markdown",
      "metadata": {
        "id": "pWaJTv9rUg09"
      },
      "source": [
        "2. Definição da função para obter a entrada do teclado e válidar essa entrada"
      ]
    },
    {
      "cell_type": "code",
      "execution_count": null,
      "metadata": {
        "id": "jeyNFwFuUUsa"
      },
      "outputs": [],
      "source": [
        "def ler_ano_do_teclado(mensagem): #recebe a mensagem a ser exibida como parametro\n",
        "    while True: #laço infinito\n",
        "        try:\n",
        "            numero = int(input(mensagem)) #exibe a mensagem e espera a entrada de um valor tipo int\n",
        "            if(numero <= 0): #caso o numero seja negativo ou igual a zero mantenho o laço e exibo a mensagem abaixo\n",
        "              print(\"Entrada inválida. Você é mais velho que Cristo?\")\n",
        "            else: #caso seja positivo maior que zero saio do laço\n",
        "              return numero #retornando a entrada do teclado\n",
        "        except ValueError: #caso a entrada do usuario não seja a esperada, um int, o laço continua em execução e a mensagem a seguir é mostrada\n",
        "            print(\"Entrada inválida. Digite um ano válido.\")"
      ]
    },
    {
      "cell_type": "markdown",
      "metadata": {
        "id": "Aa95xMhDUhCc"
      },
      "source": [
        "3. Obtendo o ano a ser trabalhado"
      ]
    },
    {
      "cell_type": "code",
      "execution_count": null,
      "metadata": {
        "id": "wzHHIu-qUU_E"
      },
      "outputs": [],
      "source": [
        "ano = ler_ano_do_teclado(\"Digite o ano de nascimento: \") #chamada da funçao ler_ano_do_teclado e atribuiçao do retorno em uma variavel"
      ]
    },
    {
      "cell_type": "markdown",
      "metadata": {
        "id": "cheh58zZUhWU"
      },
      "source": [
        "4. Validando o ano para uma mensagem divertida"
      ]
    },
    {
      "cell_type": "code",
      "execution_count": null,
      "metadata": {
        "id": "tbEq_IQ7UVMG"
      },
      "outputs": [],
      "source": [
        "if(ano < 1900): #vejo se o ano é menor que 1900 e exibo a mensagem divertida para a pessoa do passado\n",
        "  print(\"Ola pessoa do passado!\")\n",
        "\n",
        "if(ano > 2015 and ano < 2023): #vejo se o ano é menor que 2023, maior que 2015 e exibo a mensagem divertida para a criança\n",
        "  print(\"Moshi Moshi Kodomo!\")\n",
        "\n",
        "if(ano > 2023): #vejo se o ano é maior que 2023 e exibo a mensagem divertida para a pessoa do futuro\n",
        "  print(\"Ola pessoa do futuro!\")"
      ]
    },
    {
      "cell_type": "markdown",
      "metadata": {
        "id": "X_w759LNUif6"
      },
      "source": [
        "5. Validando se o ano é bissexto ou não"
      ]
    },
    {
      "cell_type": "code",
      "execution_count": null,
      "metadata": {
        "id": "TLNR3ubVUVYj"
      },
      "outputs": [],
      "source": [
        "if bissexto(ano): #chamo a função bissexto e valido se seu retorno e verdadeiro ou falso\n",
        "  print(f\"O ano {ano} é bissexto.\") #imprimo a mensagem para verdadeiro\n",
        "else:\n",
        "  print(f\"O ano {ano} não é bissexto.\") #imprimo a mensagem para falso"
      ]
    }
  ],
  "metadata": {
    "colab": {
      "provenance": []
    },
    "kernelspec": {
      "display_name": "Python 3",
      "name": "python3"
    },
    "language_info": {
      "name": "python"
    }
  },
  "nbformat": 4,
  "nbformat_minor": 0
}
