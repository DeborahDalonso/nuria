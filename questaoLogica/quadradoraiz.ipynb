{
  "nbformat": 4,
  "nbformat_minor": 0,
  "metadata": {
    "colab": {
      "provenance": []
    },
    "kernelspec": {
      "name": "python3",
      "display_name": "Python 3"
    },
    "language_info": {
      "name": "python"
    }
  },
  "cells": [
    {
      "cell_type": "markdown",
      "source": [
        "##Objetivo\n",
        "\n",
        "Faça um programa, em seguida, um programa que solicite a entrada de dois números, em seguida imprime na tela o quadrado do menor número e a raiz quadrada do maior número, se for possível."
      ],
      "metadata": {
        "id": "mN3JJ8qOFWhH"
      }
    },
    {
      "cell_type": "markdown",
      "source": [
        "1. Importando a biblioteca math para o calculo da raiz e da potenciação"
      ],
      "metadata": {
        "id": "TGd1L1y0F36C"
      }
    },
    {
      "cell_type": "code",
      "execution_count": 6,
      "metadata": {
        "id": "rqIS6Ld6_9hW"
      },
      "outputs": [],
      "source": [
        "import math"
      ]
    },
    {
      "cell_type": "markdown",
      "source": [
        "2. Definindo uma função para obter a entrada do teclado e válidar essa entrada"
      ],
      "metadata": {
        "id": "MVnMIMKBFYS-"
      }
    },
    {
      "cell_type": "code",
      "source": [
        "def ler_numero_do_teclado(mensagem): #recebe a mensagem a ser exibida como parametro\n",
        "    while True: #laço infinito\n",
        "        try:\n",
        "            numero = float(input(mensagem)) #exibe a mensagem e espera a entrada de um valor tipo float\n",
        "            return numero #sai do loop retornando a entrada do teclado\n",
        "        except ValueError: #caso a entrada do usuario não seja a esperada, um float, o loop continua em execução e a mensagem a seguir é mostrada\n",
        "            print(\"Entrada inválida. Digite um número válido.\")"
      ],
      "metadata": {
        "id": "MG83ZYACDsS2"
      },
      "execution_count": 8,
      "outputs": []
    },
    {
      "cell_type": "markdown",
      "source": [
        "3. Obtendo os números a serem trabalhado\n",
        "\n"
      ],
      "metadata": {
        "id": "As92FvEAFZuu"
      }
    },
    {
      "cell_type": "code",
      "source": [
        "numero1 = ler_numero_do_teclado(\"Digite o primeiro número: \") #chamada da função ler_numero_do_teclado e atribuição do retorno em uma variavel\n",
        "numero2 = ler_numero_do_teclado(\"Digite o segundo número: \") #chamada da função ler_numero_do_teclado e atribuição do retorno em uma variavel"
      ],
      "metadata": {
        "colab": {
          "base_uri": "https://localhost:8080/"
        },
        "id": "bgfZPEuuDtez",
        "outputId": "6e1ab7a6-6703-4eb7-c212-1450bf99533f"
      },
      "execution_count": 36,
      "outputs": [
        {
          "name": "stdout",
          "output_type": "stream",
          "text": [
            "Digite o primeiro número: 2\n",
            "Digite o segundo número: 2\n"
          ]
        }
      ]
    },
    {
      "cell_type": "markdown",
      "source": [
        "5. Validando qual o maior e menor número e calculando a potencia e a raiz"
      ],
      "metadata": {
        "id": "_5_LElnOFbY4"
      }
    },
    {
      "cell_type": "code",
      "source": [
        "if numero1 < numero2: #verifica se numero1 é menor\n",
        "    quadrado = math.pow(numero1, 2) #calcula a potencia usando o metodo pow em math (umero1 ** 2)\n",
        "    raiz = math.sqrt(numero2) if numero2 >= 0 else None #calcula a raiz de numero2, usa um operador ternario para validar se o numero é negatido, se for atribui none a variavel\n",
        "else: #podem ser iguais ou numero2 menor que numero1, mas isso nao faz diferença, o calculo vai ser o mesmo\n",
        "    quadrado = math.pow(numero2, 2)\n",
        "    raiz = math.sqrt(numero1) if numero1 >= 0 else None\n",
        "    if numero2 == numero1: #verifica se são iguais e printa o texto abaixo\n",
        "      print(\"Ambos os números são iguais!\")"
      ],
      "metadata": {
        "colab": {
          "base_uri": "https://localhost:8080/"
        },
        "id": "LcljFZADEBUJ",
        "outputId": "ee49f08b-5158-486c-c7fa-60490f56ac34"
      },
      "execution_count": 37,
      "outputs": [
        {
          "output_type": "stream",
          "name": "stdout",
          "text": [
            "Ambos os números são iguais!\n"
          ]
        }
      ]
    },
    {
      "cell_type": "markdown",
      "source": [
        "6. Printando os valores"
      ],
      "metadata": {
        "id": "-bamiY_iFcnd"
      }
    },
    {
      "cell_type": "code",
      "source": [
        "print(\"Quadrado do menor número:\", quadrado) #printa o valor do quadrado\n",
        "if raiz is not None: # verifica se a variavel raiz nao possui o valor none, ou seja, nao é negativa\n",
        "    print(\"Raiz quadrada do maior número:\", raiz) #printa a raiz\n",
        "else: #caso seja none informa que é impossivel o calculo\n",
        "    print(\"Raiz quadrada do maior número: impossível\")"
      ],
      "metadata": {
        "colab": {
          "base_uri": "https://localhost:8080/"
        },
        "id": "xfcB1IBPED45",
        "outputId": "c19153c0-d567-4b49-9578-fa78b7801c3b"
      },
      "execution_count": 38,
      "outputs": [
        {
          "output_type": "stream",
          "name": "stdout",
          "text": [
            "Quadrado do menor número: 4.0\n",
            "Raiz quadrada do maior número: 1.4142135623730951\n"
          ]
        }
      ]
    }
  ]
}